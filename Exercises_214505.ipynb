{
  "nbformat": 4,
  "nbformat_minor": 0,
  "metadata": {
    "colab": {
      "name": "Exercises_214505.ipynb",
      "provenance": [],
      "authorship_tag": "ABX9TyPOXhelkH3oZpaoSz2+Np5J",
      "include_colab_link": true
    },
    "kernelspec": {
      "name": "python3",
      "display_name": "Python 3"
    },
    "language_info": {
      "name": "python"
    }
  },
  "cells": [
    {
      "cell_type": "markdown",
      "metadata": {
        "id": "view-in-github",
        "colab_type": "text"
      },
      "source": [
        "<a href=\"https://colab.research.google.com/github/Sairamomkar/musical-fortnight/blob/main/Exercises_214505.ipynb\" target=\"_parent\"><img src=\"https://colab.research.google.com/assets/colab-badge.svg\" alt=\"Open In Colab\"/></a>"
      ]
    },
    {
      "cell_type": "code",
      "execution_count": 1,
      "metadata": {
        "colab": {
          "base_uri": "https://localhost:8080/"
        },
        "id": "Gi-gCGZhkfdE",
        "outputId": "8f2c6d8c-bacd-4a07-8af6-3e07d15c6b43"
      },
      "outputs": [
        {
          "output_type": "stream",
          "name": "stdout",
          "text": [
            "hello Niranjan\n"
          ]
        }
      ],
      "source": [
        "name=\"Niranjan\"\n",
        "print (\"hello \"+ name) "
      ]
    },
    {
      "cell_type": "code",
      "source": [
        "width= 50\n",
        "height= 75\n",
        "print(width//2)"
      ],
      "metadata": {
        "id": "ARTujO26leK-"
      },
      "execution_count": null,
      "outputs": []
    },
    {
      "cell_type": "code",
      "source": [
        "omkara=15\n",
        "niranjan = ( 15* 9/5 ) + 32\n",
        "print( niranjan)"
      ],
      "metadata": {
        "colab": {
          "base_uri": "https://localhost:8080/"
        },
        "id": "rZzxPXArlfBs",
        "outputId": "b7e59db2-8b73-458e-c189-502808091596"
      },
      "execution_count": 5,
      "outputs": [
        {
          "output_type": "stream",
          "name": "stdout",
          "text": [
            "59.0\n"
          ]
        }
      ]
    },
    {
      "cell_type": "code",
      "source": [
        "temperature=float(input (\" Enter fahrenheit\"))\n",
        "if temperature>=98.2:\n",
        "  print(\" feeling feverish\")\n",
        "else:\n",
        "  print(\" normal temperature\") "
      ],
      "metadata": {
        "colab": {
          "base_uri": "https://localhost:8080/"
        },
        "id": "hk6MBoNnlMDS",
        "outputId": "542ab6d6-879d-407b-f00a-74ad92d47926"
      },
      "execution_count": 4,
      "outputs": [
        {
          "output_type": "stream",
          "name": "stdout",
          "text": [
            " Enter fahrenheit12\n",
            " normal temperature\n"
          ]
        }
      ]
    },
    {
      "cell_type": "code",
      "source": [
        "n1 = float(input(\"Enter Hour\\n\"))\n",
        "n2 = float(input(\"Enter rate\\n\"))\n",
        "\n",
        "if (n1>40):\n",
        "     n3=(n1-40)*1.5*n2+(40*n2)\n",
        "else:\n",
        "     n3=n1*n2   \n",
        "     print(n3)\n"
      ],
      "metadata": {
        "colab": {
          "base_uri": "https://localhost:8080/"
        },
        "id": "_BKEHbtsltHx",
        "outputId": "d06bbdb0-0962-4e39-a929-a7b51c2b0cfd"
      },
      "execution_count": 6,
      "outputs": [
        {
          "output_type": "stream",
          "name": "stdout",
          "text": [
            "Enter Hour\n",
            "12\n",
            "Enter rate\n",
            "20\n",
            "240.0\n"
          ]
        }
      ]
    }
  ]
}