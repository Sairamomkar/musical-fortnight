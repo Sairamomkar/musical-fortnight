{
  "nbformat": 4,
  "nbformat_minor": 0,
  "metadata": {
    "colab": {
      "name": "Assignment_214505.ipynb",
      "provenance": [],
      "collapsed_sections": [],
      "authorship_tag": "ABX9TyMAKjcSW2YA96AsO/5Dnrwg",
      "include_colab_link": true
    },
    "kernelspec": {
      "name": "python3",
      "display_name": "Python 3"
    },
    "language_info": {
      "name": "python"
    }
  },
  "cells": [
    {
      "cell_type": "markdown",
      "metadata": {
        "id": "view-in-github",
        "colab_type": "text"
      },
      "source": [
        "<a href=\"https://colab.research.google.com/github/Sairamomkar/musical-fortnight/blob/main/Assignment_214505.ipynb\" target=\"_parent\"><img src=\"https://colab.research.google.com/assets/colab-badge.svg\" alt=\"Open In Colab\"/></a>"
      ]
    },
    {
      "cell_type": "markdown",
      "source": [
        "CHAPTER-3  PROBLEM NO-1\n"
      ],
      "metadata": {
        "id": "IBDsFeQzVjKT"
      }
    },
    {
      "cell_type": "code",
      "source": [
        "x=float(input('Enter hour\\n'))\n",
        "y=float(input('Enter rate\\n'))\n",
        "\n",
        "if(x>40):\n",
        "  c=(x-40)*1.5*y+(40*y)\n",
        "else:\n",
        "    c=x*y\n",
        "print(c)"
      ],
      "metadata": {
        "colab": {
          "base_uri": "https://localhost:8080/"
        },
        "id": "z02P1cJgZ4vP",
        "outputId": "8ab91b6e-86f2-4fc4-ecbf-107258ea1cbb"
      },
      "execution_count": null,
      "outputs": [
        {
          "output_type": "stream",
          "name": "stdout",
          "text": [
            "Enter hour\n",
            "60\n",
            "Enter rate\n",
            "45\n",
            "3150.0\n"
          ]
        }
      ]
    },
    {
      "cell_type": "markdown",
      "source": [
        "PROBLEM NO-2 CHAPTER-3"
      ],
      "metadata": {
        "id": "rGtEbzrXiJZr"
      }
    },
    {
      "cell_type": "code",
      "source": [
        "try:\n",
        "  x=float(input('Enter hour\\n'))\n",
        "  y=float(input('Enter rate\\n'))\n",
        "\n",
        "  if (x>40):\n",
        "    c=(x-40)*1.5*y+(40*y)\n",
        "  else:\n",
        "    c=x*y\n",
        "    print(c)\n",
        "except:\n",
        "      print('pleas enter numeric input')"
      ],
      "metadata": {
        "colab": {
          "base_uri": "https://localhost:8080/"
        },
        "id": "zxxfWENEiIek",
        "outputId": "c1c2e855-75eb-42b8-a2d1-2e9c88f3d5cd"
      },
      "execution_count": null,
      "outputs": [
        {
          "output_type": "stream",
          "name": "stdout",
          "text": [
            "Enter hour\n",
            "sixty four\n",
            "pleas enter numeric input\n"
          ]
        }
      ]
    },
    {
      "cell_type": "markdown",
      "source": [
        "PROBLEM NO-3 CHAPTER-3"
      ],
      "metadata": {
        "id": "KdIyJxdNliKX"
      }
    },
    {
      "cell_type": "markdown",
      "source": [
        "functions"
      ],
      "metadata": {
        "id": "ZrWBoTPVWvvb"
      }
    },
    {
      "cell_type": "code",
      "source": [
        "def Wish():\n",
        "  print (\"Happy birthday\")\n",
        "Wish()"
      ],
      "metadata": {
        "id": "lqh3yypflheo",
        "colab": {
          "base_uri": "https://localhost:8080/"
        },
        "outputId": "cc15872f-b8aa-4f78-e14b-4a57c3f919bd"
      },
      "execution_count": null,
      "outputs": [
        {
          "output_type": "stream",
          "name": "stdout",
          "text": [
            "Happy birthday\n"
          ]
        }
      ]
    },
    {
      "cell_type": "code",
      "source": [
        "#using argument in function\n",
        "def Wish(name):\n",
        "  print(\"Happy Birthday\",name)\n",
        "Wish(\"Niranjan\")"
      ],
      "metadata": {
        "colab": {
          "base_uri": "https://localhost:8080/"
        },
        "id": "MGV6Z7kNX3we",
        "outputId": "3fa60df2-818a-49b6-f703-cfe28b555ab2"
      },
      "execution_count": null,
      "outputs": [
        {
          "output_type": "stream",
          "name": "stdout",
          "text": [
            "Happy Birthday Niranjan\n"
          ]
        }
      ]
    },
    {
      "cell_type": "code",
      "source": [
        "def elasticity():\n",
        "\n",
        "    price1 = float(input(\"Enter the present price \"))\n",
        "    price2 = float(input(\"Enter the new price \"))\n",
        "    amount1 = float(input(\"Enter the old amount \"))\n",
        "    amount2 = float(input(\"Enter the new price \"))\n",
        "    elasticity = (amount2 - amount1)/(price2 - price1)\n",
        "    if elasticity == 0:\n",
        "      return (\"The demand is Totally In-Elastic \")\n",
        "    elif elasticity <0:\n",
        "      return (\"The demand is In-Elastic\")\n",
        "    elif elasticity ==1 :\n",
        "      return (\"The demand is unitary Elastic\")\n",
        "    elif elasticity > 1:\n",
        "      return (\"The demand is Elastic\")\n",
        "\n",
        "print(elasticity())"
      ],
      "metadata": {
        "id": "7aV5D0Hkdme7"
      },
      "execution_count": null,
      "outputs": []
    },
    {
      "cell_type": "code",
      "source": [
        "number = (2,3,4,7,8,1,6,5)\n",
        "\n",
        "length = len(number)\n",
        "print (\"The length is \",length)\n",
        "\n"
      ],
      "metadata": {
        "colab": {
          "base_uri": "https://localhost:8080/"
        },
        "id": "2ypzKQ93YS8s",
        "outputId": "5963fee9-b210-4dec-8be1-48c063ce1fed"
      },
      "execution_count": null,
      "outputs": [
        {
          "output_type": "stream",
          "name": "stdout",
          "text": [
            "The length is  8\n"
          ]
        }
      ]
    },
    {
      "cell_type": "markdown",
      "source": [
        "Loops\n"
      ],
      "metadata": {
        "id": "AWF35ZgkZYWt"
      }
    },
    {
      "cell_type": "code",
      "source": [
        "name = (\"Niranjan\")\n",
        "for attributes in name:\n",
        "   print(attributes)\n"
      ],
      "metadata": {
        "colab": {
          "base_uri": "https://localhost:8080/"
        },
        "id": "7TBVMjuLZbIg",
        "outputId": "39ef71c9-5420-42fa-e97d-10309b059365"
      },
      "execution_count": null,
      "outputs": [
        {
          "output_type": "stream",
          "name": "stdout",
          "text": [
            "N\n",
            "i\n",
            "r\n",
            "a\n",
            "n\n",
            "j\n",
            "a\n",
            "n\n"
          ]
        }
      ]
    },
    {
      "cell_type": "code",
      "source": [
        "vegetables = (\"Carrot\",\"Tamato\",\"Beans\",\"Onion\")\n",
        "for v in vegetables:\n",
        "  print(v)"
      ],
      "metadata": {
        "colab": {
          "base_uri": "https://localhost:8080/"
        },
        "id": "H5VJ3-0gb_7f",
        "outputId": "33b38eaa-1d54-4123-bdb7-138c0e215406"
      },
      "execution_count": null,
      "outputs": [
        {
          "output_type": "stream",
          "name": "stdout",
          "text": [
            "Carrot\n",
            "Tamato\n",
            "Beans\n",
            "Onion\n"
          ]
        }
      ]
    },
    {
      "cell_type": "code",
      "source": [
        "for number in range (25,35):\n",
        "  print (number)"
      ],
      "metadata": {
        "colab": {
          "base_uri": "https://localhost:8080/"
        },
        "id": "c7pz_9lrZ5a3",
        "outputId": "e42082f6-50fe-4cfc-b3af-ac100d27f572"
      },
      "execution_count": null,
      "outputs": [
        {
          "output_type": "stream",
          "name": "stdout",
          "text": [
            "25\n",
            "26\n",
            "27\n",
            "28\n",
            "29\n",
            "30\n",
            "31\n",
            "32\n",
            "33\n",
            "34\n"
          ]
        }
      ]
    },
    {
      "cell_type": "code",
      "source": [
        "n = -7\n",
        "while n < 20:\n",
        "  print(n)\n",
        "  n+=3\n"
      ],
      "metadata": {
        "colab": {
          "base_uri": "https://localhost:8080/"
        },
        "id": "p5WT41u1bLvr",
        "outputId": "a4af8860-0620-43fe-d3b3-aea235b3a4b9"
      },
      "execution_count": null,
      "outputs": [
        {
          "output_type": "stream",
          "name": "stdout",
          "text": [
            "-7\n",
            "-4\n",
            "-1\n",
            "2\n",
            "5\n",
            "8\n",
            "11\n",
            "14\n",
            "17\n"
          ]
        }
      ]
    },
    {
      "cell_type": "code",
      "source": [
        "number = 7\n",
        "while number < 120:\n",
        "  print(number)\n",
        "  number *=2\n",
        "else:\n",
        "  print(\"You have reached the end\")"
      ],
      "metadata": {
        "colab": {
          "base_uri": "https://localhost:8080/"
        },
        "id": "F8jYhDyJaNIj",
        "outputId": "c4e60ed9-4f3f-4113-b34a-122c97dee80f"
      },
      "execution_count": null,
      "outputs": [
        {
          "output_type": "stream",
          "name": "stdout",
          "text": [
            "7\n",
            "14\n",
            "28\n",
            "56\n",
            "112\n",
            "You have reached the end\n"
          ]
        }
      ]
    }
  ]
}